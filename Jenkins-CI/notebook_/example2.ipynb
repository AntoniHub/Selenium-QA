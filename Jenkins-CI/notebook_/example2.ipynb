# Importa las bibliotecas necesarias
import numpy as np
import matplotlib.pyplot as plt

# Crea un conjunto de datos
x = np.linspace(0, 2 * np.pi, 100)
y = np.sin(x)

# Grafica la función seno
plt.plot(x, y)
plt.title("Gráfico de la función seno")
plt.xlabel("x")
plt.ylabel("y = sin(x)")
plt.grid(True)
plt.show()
